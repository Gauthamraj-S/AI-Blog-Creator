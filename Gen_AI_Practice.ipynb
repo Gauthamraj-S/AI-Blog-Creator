{
  "nbformat": 4,
  "nbformat_minor": 0,
  "metadata": {
    "colab": {
      "provenance": [],
      "include_colab_link": true
    },
    "kernelspec": {
      "name": "python3",
      "display_name": "Python 3"
    },
    "language_info": {
      "name": "python"
    }
  },
  "cells": [
    {
      "cell_type": "markdown",
      "metadata": {
        "id": "view-in-github",
        "colab_type": "text"
      },
      "source": [
        "<a href=\"https://colab.research.google.com/github/Gauthamraj-S/AI-Blog-Creator/blob/main/Gen_AI_Practice.ipynb\" target=\"_parent\"><img src=\"https://colab.research.google.com/assets/colab-badge.svg\" alt=\"Open In Colab\"/></a>"
      ]
    },
    {
      "cell_type": "markdown",
      "source": [
        "**Write a program  to Identify greatest of 3 numbers**"
      ],
      "metadata": {
        "id": "S0jTC1Q0Iird"
      }
    },
    {
      "cell_type": "code",
      "execution_count": null,
      "metadata": {
        "colab": {
          "base_uri": "https://localhost:8080/"
        },
        "id": "EJs3a1lXDKcs",
        "outputId": "86e709bb-32c9-4aab-9c94-43464bbe07c2"
      },
      "outputs": [
        {
          "output_type": "stream",
          "name": "stdout",
          "text": [
            "Enter first number: 20\n",
            "Enter second number: 10\n",
            "Enter third number: 30\n",
            "30 is greatest\n"
          ]
        }
      ],
      "source": [
        "num1 = int(input(\"Enter first number: \"))\n",
        "num2 = int(input(\"Enter second number: \"))\n",
        "num3 = int(input(\"Enter third number: \"))\n",
        "if num1>num2 and num1>num3:\n",
        "  print(num1, \"is greatest\")\n",
        "elif num2>num1 and num2>num3:\n",
        "  print(num2, \"is greatest\")\n",
        "else:\n",
        "  print(num3, \"is greatest\")"
      ]
    },
    {
      "cell_type": "code",
      "source": [
        "num1 = int(input(\"Enter first number: \"))\n",
        "num2 = int(input(\"Enter second number: \"))\n",
        "num3 = int(input(\"Enter third number: \"))\n",
        "\n",
        "maximum = max(num1, num2, num3)\n",
        "print(maximum, \"is greatest\")"
      ],
      "metadata": {
        "colab": {
          "base_uri": "https://localhost:8080/"
        },
        "id": "dRwvJGmrElQp",
        "outputId": "b914ef18-05e8-480f-99de-4db637767a59"
      },
      "execution_count": null,
      "outputs": [
        {
          "output_type": "stream",
          "name": "stdout",
          "text": [
            "Enter first number: 20\n",
            "Enter second number: 10\n",
            "Enter third number: 40\n",
            "40 is greatest\n"
          ]
        }
      ]
    },
    {
      "cell_type": "markdown",
      "source": [
        "**write a program to find amstrong number**"
      ],
      "metadata": {
        "id": "FOmrUOKkIY3m"
      }
    },
    {
      "cell_type": "code",
      "source": [
        "num = int(input(\"Enter a number: \"))\n",
        "\n",
        "def is_amstrong(num):\n",
        "  sum = 0\n",
        "  temp = num\n",
        "  while temp > 0:\n",
        "    digit = temp % 10\n",
        "    sum += digit ** 3\n",
        "    temp //= 10\n",
        "  if num == sum:\n",
        "    return True\n",
        "  else:\n",
        "    return False\n",
        "\n",
        "\n",
        "val=is_amstrong(num)\n",
        "\n",
        "if (val):\n",
        "  print(num, \"is a amstrong number\")\n",
        "else:\n",
        "  print(num, \"is not a amstrong number\")"
      ],
      "metadata": {
        "colab": {
          "base_uri": "https://localhost:8080/"
        },
        "id": "41G0UaExG-X3",
        "outputId": "8e92e866-bb9b-4940-951d-bdabac7686f8"
      },
      "execution_count": null,
      "outputs": [
        {
          "output_type": "stream",
          "name": "stdout",
          "text": [
            "Enter a number: 370\n",
            "370 is a amstrong number\n"
          ]
        }
      ]
    },
    {
      "cell_type": "code",
      "source": [
        "str_val = input(\"Enter any Character: \")\n",
        "\n",
        "for i in str_val:\n",
        "  print(i)"
      ],
      "metadata": {
        "colab": {
          "base_uri": "https://localhost:8080/"
        },
        "id": "xDL70liDJKud",
        "outputId": "50129098-7d47-4fc5-9088-570d4697340a"
      },
      "execution_count": null,
      "outputs": [
        {
          "output_type": "stream",
          "name": "stdout",
          "text": [
            "Enter any Character: HELLO WORLD\n",
            "H\n",
            "E\n",
            "L\n",
            "L\n",
            "O\n",
            " \n",
            "W\n",
            "O\n",
            "R\n",
            "L\n",
            "D\n"
          ]
        }
      ]
    },
    {
      "cell_type": "code",
      "source": [
        "str_inp = input(\"Enter any string: \")\n",
        "\n",
        "character = input(\"Enter a character of String: \")\n",
        "\n",
        "pos = 0\n",
        "\n",
        "\n",
        "for char in str_inp:\n",
        "  pos+=1\n",
        "  if char == character:\n",
        "    print(\"Character \" + char + \" is in \" + str(pos) + \" position\\n\")\n",
        "    continue\n",
        "    if pos == len(str_inp):\n",
        "      print(\"Character not found\")\n",
        "\n",
        "\n",
        "\n"
      ],
      "metadata": {
        "colab": {
          "base_uri": "https://localhost:8080/"
        },
        "id": "lEzy7R8RKAFI",
        "outputId": "2f2f6cf1-5277-4550-a51d-3aa31a724839"
      },
      "execution_count": null,
      "outputs": [
        {
          "output_type": "stream",
          "name": "stdout",
          "text": [
            "Enter any string: Hello World\n",
            "Enter a character of String: l\n",
            "Character l is in 3 position\n",
            "\n",
            "Character l is in 4 position\n",
            "\n",
            "Character l is in 10 position\n",
            "\n"
          ]
        }
      ]
    },
    {
      "cell_type": "code",
      "source": [
        "Str_ = input(\"Enter any string: \")\n",
        "\n",
        "print(Str_[0], Str_[4])"
      ],
      "metadata": {
        "colab": {
          "base_uri": "https://localhost:8080/"
        },
        "id": "mcMhp8-WMGHu",
        "outputId": "f8ecfe28-3376-43da-d24d-24f57f555867"
      },
      "execution_count": null,
      "outputs": [
        {
          "output_type": "stream",
          "name": "stdout",
          "text": [
            "Enter any string: Hello\n",
            "H o\n"
          ]
        }
      ]
    },
    {
      "cell_type": "code",
      "source": [
        "str_= \"hellow world\"\n",
        "print(str_[1:11:2])"
      ],
      "metadata": {
        "colab": {
          "base_uri": "https://localhost:8080/"
        },
        "id": "vxUh7xLzNSIB",
        "outputId": "9922fc24-81e1-42fd-e691-f13d45bad75e"
      },
      "execution_count": null,
      "outputs": [
        {
          "output_type": "stream",
          "name": "stdout",
          "text": [
            "elwwr\n"
          ]
        }
      ]
    },
    {
      "cell_type": "code",
      "source": [
        "# Write a program tp print highest number of the list\n",
        "\n",
        "lst = []\n",
        "\n",
        "i = int(input(\"Enter the range of elements in the list\"))\n",
        "\n",
        "for n in range(i):\n",
        "  x = int(input(\"Enter the element: \"))\n",
        "  lst.append(x)\n",
        "lst.sort()\n",
        "if len(lst) == 0:\n",
        "  print(\"List is empty\")\n",
        "else:\n",
        "  print(\"Highest element in the list is \" ,lst[-1])"
      ],
      "metadata": {
        "colab": {
          "base_uri": "https://localhost:8080/"
        },
        "id": "x8f2dxEFOXWx",
        "outputId": "73192852-5796-4d34-9c1e-42a973a1afb2"
      },
      "execution_count": null,
      "outputs": [
        {
          "output_type": "stream",
          "name": "stdout",
          "text": [
            "Enter the range of elements in the list5\n",
            "Enter the element: 10\n",
            "Enter the element: 40\n",
            "Enter the element: 20\n",
            "Enter the element: 50\n",
            "Enter the element: 5\n",
            "Highest element in the list is  50\n"
          ]
        }
      ]
    },
    {
      "cell_type": "code",
      "source": [
        "str_ = input(\"Enter the String: \")\n",
        "lst = []\n",
        "lst = str_.split(\" \")\n",
        "print(lst[::-1])\n"
      ],
      "metadata": {
        "colab": {
          "base_uri": "https://localhost:8080/"
        },
        "id": "rwRmnB8dTq-t",
        "outputId": "7182f47d-6be0-46f1-c45a-d0da5eba2955"
      },
      "execution_count": null,
      "outputs": [
        {
          "output_type": "stream",
          "name": "stdout",
          "text": [
            "Enter the String: Hello World\n",
            "['World', 'Hello']\n"
          ]
        }
      ]
    },
    {
      "cell_type": "code",
      "source": [
        "str_ = input(\"Enter the String: \")\n",
        "print(str_[::-1])"
      ],
      "metadata": {
        "colab": {
          "base_uri": "https://localhost:8080/"
        },
        "id": "WIKVWm8Ia1C_",
        "outputId": "cb98fa46-8a11-4e0b-f46e-e664127cc05b"
      },
      "execution_count": null,
      "outputs": [
        {
          "output_type": "stream",
          "name": "stdout",
          "text": [
            "dlroW olleH\n"
          ]
        }
      ]
    },
    {
      "cell_type": "markdown",
      "source": [
        "Inbuilt Functions in Python"
      ],
      "metadata": {
        "id": "GDY-Ty0fF4kk"
      }
    },
    {
      "cell_type": "code",
      "source": [
        "# Converts to lower Case\n",
        "text = input(\"Enter the String: \")\n",
        "print(text.lower())"
      ],
      "metadata": {
        "colab": {
          "base_uri": "https://localhost:8080/"
        },
        "id": "gugW10HDEkiz",
        "outputId": "2d968f1d-538d-4044-dac4-d64621cdfbe9"
      },
      "execution_count": null,
      "outputs": [
        {
          "output_type": "stream",
          "name": "stdout",
          "text": [
            "Enter the String: Hello World\n",
            "hello world\n"
          ]
        }
      ]
    },
    {
      "cell_type": "code",
      "source": [
        "# Convert into upper case\n",
        "text = input(\"Enter the String: \")\n",
        "print(text.upper())"
      ],
      "metadata": {
        "colab": {
          "base_uri": "https://localhost:8080/"
        },
        "id": "4W6-psTnGF-n",
        "outputId": "ba57c755-cde9-4f80-b9b9-72d2fa99dc3f"
      },
      "execution_count": null,
      "outputs": [
        {
          "output_type": "stream",
          "name": "stdout",
          "text": [
            "Enter the String: Hello World\n",
            "HELLO WORLD\n"
          ]
        }
      ]
    },
    {
      "cell_type": "code",
      "source": [
        "# Remove Specific Character\n",
        "text = input(\"Enter the String: \")\n",
        "print(text.strip(\"#\"))"
      ],
      "metadata": {
        "colab": {
          "base_uri": "https://localhost:8080/"
        },
        "id": "6zh5iH5vGqOj",
        "outputId": "270683c9-a4ff-4aec-afee-0a3329fc2a2e"
      },
      "execution_count": null,
      "outputs": [
        {
          "output_type": "stream",
          "name": "stdout",
          "text": [
            "Enter the String: ###HELLO###\n",
            "HELLO\n"
          ]
        }
      ]
    },
    {
      "cell_type": "code",
      "source": [
        "# Replace\n",
        "\n",
        "text = input(\"Enter the String: \")\n",
        "print(text.replace(\"Hello\",\"hello\"))\n"
      ],
      "metadata": {
        "colab": {
          "base_uri": "https://localhost:8080/"
        },
        "id": "aIoIWtcKHnii",
        "outputId": "bd306e6f-bf8e-471f-bc9a-9c0cffdb64c0"
      },
      "execution_count": null,
      "outputs": [
        {
          "output_type": "stream",
          "name": "stdout",
          "text": [
            "Enter the String: Hello World\n",
            "hello World\n"
          ]
        }
      ]
    },
    {
      "cell_type": "code",
      "source": [
        "# List.append()\n",
        "\n",
        "lst = []\n",
        "\n",
        "i = int(input(\"Enter the range of elements in the list\"))\n",
        "\n",
        "for n in range(i):\n",
        "  x = int(input(\"Enter the element: \"))\n",
        "  lst.append(x)\n",
        "lst.sort()\n",
        "if len(lst) == 0:\n",
        "  print(\"List is empty\")\n",
        "else:\n",
        "  print(\"Highest element in the list is \" ,lst[-1])\n",
        "\n",
        "lst.append(100)\n",
        "print(lst)"
      ],
      "metadata": {
        "colab": {
          "base_uri": "https://localhost:8080/"
        },
        "id": "ZdGk6GMfIAL9",
        "outputId": "f7c96d80-9a78-4254-9e82-9cc227b0288d"
      },
      "execution_count": null,
      "outputs": [
        {
          "output_type": "stream",
          "name": "stdout",
          "text": [
            "Enter the range of elements in the list3\n",
            "Enter the element: 10\n",
            "Enter the element: 20\n",
            "Enter the element: 30\n",
            "Highest element in the list is  30\n",
            "[10, 20, 30, 100]\n"
          ]
        }
      ]
    },
    {
      "cell_type": "code",
      "source": [
        "# Insert fuction inserts value in a specific index value of the list\n",
        "\n",
        "# lst.insert(index_num, value)\n",
        "\n",
        "lst=[]\n",
        "lst.insert(0,\"apple\")\n",
        "lst.insert(1,\"banana\")\n",
        "lst.insert(2,\"cherry\")\n",
        "print(lst)\n",
        "\n",
        "lst.insert(1,\"watermelon\")\n",
        "print(lst)\n"
      ],
      "metadata": {
        "colab": {
          "base_uri": "https://localhost:8080/"
        },
        "id": "l5GI2W83JbEH",
        "outputId": "c0871c9e-0bef-4284-beea-f1890f07a8c2"
      },
      "execution_count": null,
      "outputs": [
        {
          "output_type": "stream",
          "name": "stdout",
          "text": [
            "['apple', 'banana', 'cherry']\n",
            "['apple', 'watermelon', 'banana', 'cherry']\n"
          ]
        }
      ]
    },
    {
      "cell_type": "code",
      "source": [
        "#pop() -> removes and returns specific index in a list (default: last item)\n",
        "\n",
        "lst=[]\n",
        "lst.insert(0,\"apple\")\n",
        "lst.insert(1,\"banana\")\n",
        "lst.insert(2,\"cherry\")\n",
        "print(lst)\n",
        "\n",
        "lst.insert(1,\"watermelon\")\n",
        "print(lst)\n",
        "print(lst.pop(1))\n",
        "print(lst)\n",
        "print(lst.pop())\n",
        "print(lst)"
      ],
      "metadata": {
        "colab": {
          "base_uri": "https://localhost:8080/"
        },
        "id": "VgF5ZfqUKm_7",
        "outputId": "4aa7843e-b729-4a2c-ae29-b487771a9f5e"
      },
      "execution_count": null,
      "outputs": [
        {
          "output_type": "stream",
          "name": "stdout",
          "text": [
            "['apple', 'banana', 'cherry']\n",
            "['apple', 'watermelon', 'banana', 'cherry']\n",
            "watermelon\n",
            "['apple', 'banana', 'cherry']\n",
            "cherry\n",
            "['apple', 'banana']\n"
          ]
        }
      ]
    },
    {
      "cell_type": "code",
      "source": [
        "# lst.sort() -> sort the values in the list\n",
        "\n",
        "lst = []\n",
        "\n",
        "i = int(input(\"Enter the range of elements in the list\"))\n",
        "\n",
        "for n in range(i):\n",
        "  x = int(input(\"Enter the element: \"))\n",
        "  lst.append(x)\n",
        "lst.sort()\n",
        "if len(lst) == 0:\n",
        "  print(\"List is empty\")\n",
        "else:\n",
        "  print(\"Highest element in the list is \" ,lst[-1])\n"
      ],
      "metadata": {
        "id": "bWTdbtY6LTvf",
        "colab": {
          "base_uri": "https://localhost:8080/"
        },
        "outputId": "6c3632e9-9d9e-4bd4-f680-ecfb24373f67"
      },
      "execution_count": null,
      "outputs": [
        {
          "output_type": "stream",
          "name": "stdout",
          "text": [
            "Enter the range of elements in the list3\n",
            "Enter the element: 10\n",
            "Enter the element: 12\n",
            "Enter the element: 54\n",
            "Highest element in the list is  54\n"
          ]
        }
      ]
    },
    {
      "cell_type": "code",
      "source": [
        "#remove - > removes the first occurance of a specific item\n",
        "\n",
        "lst = [\"apple\", \"banana\", \"cherry\", \"apple\"]\n",
        "lst.remove(\"apple\")\n",
        "print(lst)"
      ],
      "metadata": {
        "colab": {
          "base_uri": "https://localhost:8080/"
        },
        "id": "ynbZYZheMaaD",
        "outputId": "2b627c95-2307-4285-c755-fa3fc05a2f4f"
      },
      "execution_count": null,
      "outputs": [
        {
          "output_type": "stream",
          "name": "stdout",
          "text": [
            "['banana', 'cherry', 'apple']\n"
          ]
        }
      ]
    },
    {
      "cell_type": "code",
      "source": [
        "#remove - > removes the first occurance of a specific item\n",
        "\n",
        "lst = [\"apple\", \"banana\", \"cherry\", \"apple\"]\n",
        "\n",
        "for i in lst:\n",
        "  if i == \"apple\":\n",
        "    lst.remove(\"apple\")\n",
        "print(lst)\n"
      ],
      "metadata": {
        "colab": {
          "base_uri": "https://localhost:8080/"
        },
        "id": "7V_Vj28zNIYH",
        "outputId": "047e1620-3bb9-4e10-bd38-a4fbf399f60c"
      },
      "execution_count": null,
      "outputs": [
        {
          "output_type": "stream",
          "name": "stdout",
          "text": [
            "['banana', 'cherry']\n"
          ]
        }
      ]
    },
    {
      "cell_type": "code",
      "source": [
        "#reverse -> Reverses the list\n",
        "\n",
        "lst = [\"apple\", \"banana\", \"cherry\"]\n",
        "lst.reverse()\n",
        "print(lst)"
      ],
      "metadata": {
        "colab": {
          "base_uri": "https://localhost:8080/"
        },
        "id": "c77oXtJZMo-m",
        "outputId": "e45d58be-e12e-400a-eddf-5845306ae88e"
      },
      "execution_count": null,
      "outputs": [
        {
          "output_type": "stream",
          "name": "stdout",
          "text": [
            "['cherry', 'banana', 'apple']\n"
          ]
        }
      ]
    },
    {
      "cell_type": "code",
      "source": [
        "# len\n",
        "any = input(\"Enter Anythong\")\n",
        "\n",
        "print(\"Length of anything is :\", len(any))"
      ],
      "metadata": {
        "colab": {
          "base_uri": "https://localhost:8080/"
        },
        "id": "xkTavUBoMx21",
        "outputId": "0c2dd1c9-aad9-4b1e-beba-211e0f2b94e1"
      },
      "execution_count": null,
      "outputs": [
        {
          "output_type": "stream",
          "name": "stdout",
          "text": [
            "Enter Anythongjshfkjsjadk3\n",
            "Length of anything is : 12\n"
          ]
        }
      ]
    },
    {
      "cell_type": "code",
      "source": [
        "# sum(iterables)\n",
        "\n",
        "lst = [1,2,3,4,5]\n",
        "print(sum(lst))"
      ],
      "metadata": {
        "colab": {
          "base_uri": "https://localhost:8080/"
        },
        "id": "2OTbEQOXPVrc",
        "outputId": "6bc69e54-d663-44a6-c8b2-a0502c3d861b"
      },
      "execution_count": null,
      "outputs": [
        {
          "output_type": "stream",
          "name": "stdout",
          "text": [
            "15\n"
          ]
        }
      ]
    },
    {
      "cell_type": "code",
      "source": [
        "# sorted(iterables)\n",
        "lst = [3,2,5,4,1]\n",
        "print(sorted(lst))"
      ],
      "metadata": {
        "colab": {
          "base_uri": "https://localhost:8080/"
        },
        "id": "CueMQBdkPtFc",
        "outputId": "c4280552-2a18-434a-de70-b10b782ee392"
      },
      "execution_count": null,
      "outputs": [
        {
          "output_type": "stream",
          "name": "stdout",
          "text": [
            "[1, 2, 3, 4, 5]\n"
          ]
        }
      ]
    },
    {
      "cell_type": "code",
      "source": [
        "# max(iterables)\n",
        "lst = [3,2,5,4,1]\n",
        "print(max(lst))"
      ],
      "metadata": {
        "colab": {
          "base_uri": "https://localhost:8080/"
        },
        "id": "6Bzi_w8KP3qY",
        "outputId": "629dbd2f-6d51-4ccb-b253-c2ed1e8ba97c"
      },
      "execution_count": null,
      "outputs": [
        {
          "output_type": "stream",
          "name": "stdout",
          "text": [
            "5\n"
          ]
        }
      ]
    },
    {
      "cell_type": "code",
      "source": [
        "# min(iterables)\n",
        "lst = [3,2,5,4,1]\n",
        "print(min(lst))"
      ],
      "metadata": {
        "colab": {
          "base_uri": "https://localhost:8080/"
        },
        "id": "IXMpzzK-P_Pn",
        "outputId": "72a47d5e-0025-4af5-c5ef-9aa1fa8b4e32"
      },
      "execution_count": null,
      "outputs": [
        {
          "output_type": "stream",
          "name": "stdout",
          "text": [
            "1\n"
          ]
        }
      ]
    },
    {
      "cell_type": "code",
      "source": [
        "lst = [3,2,5,4,1]\n",
        "print(lst)\n",
        "maximum = max(lst)\n",
        "minimum = min(lst)\n",
        "\n",
        "print(\"Maximum : \" ,maximum)\n",
        "print(\"Minimum : \" ,minimum)"
      ],
      "metadata": {
        "colab": {
          "base_uri": "https://localhost:8080/"
        },
        "id": "y1BICbCrQ0BZ",
        "outputId": "f523b144-a348-43ca-f591-9cb604eebd98"
      },
      "execution_count": null,
      "outputs": [
        {
          "output_type": "stream",
          "name": "stdout",
          "text": [
            "[3, 2, 5, 4, 1]\n",
            "Maximum :  5\n",
            "Minimum :  1\n"
          ]
        }
      ]
    },
    {
      "cell_type": "code",
      "source": [
        "# Write a program to count digits on the string\n",
        "S = input(\"Enter a string with Numbers :\")\n",
        "count = 0\n",
        "\n",
        "for i in S:\n",
        "  if i.isdigit:\n",
        "    count += 1\n",
        "print(\"Number of digits in the string :\", count)"
      ],
      "metadata": {
        "colab": {
          "base_uri": "https://localhost:8080/"
        },
        "id": "BD0INfy6TpYl",
        "outputId": "868233f6-257a-4a7f-c620-069d494c37a4"
      },
      "execution_count": null,
      "outputs": [
        {
          "output_type": "stream",
          "name": "stdout",
          "text": [
            "Enter a string with Numbers :Hello12479842174\n",
            "Number of digits in the string : 16\n"
          ]
        }
      ]
    },
    {
      "cell_type": "code",
      "source": [
        "# Write a program to count digits on the string\n",
        "numbers = [0,1,2,3,4,5,6,7,8,9]\n",
        "S = input(\"Enter a string with Numbers :\")\n",
        "count = 0\n",
        "\n",
        "for i in S:\n",
        "  if i in str(numbers):\n",
        "    count += 1\n",
        "print(\"Number of digits in the string :\", count)"
      ],
      "metadata": {
        "colab": {
          "base_uri": "https://localhost:8080/"
        },
        "id": "V8HiTRHoVAVU",
        "outputId": "33c7b20b-9b24-486c-facd-727dd52c2724"
      },
      "execution_count": null,
      "outputs": [
        {
          "output_type": "stream",
          "name": "stdout",
          "text": [
            "Enter a string with Numbers :H234jsdk3423\n",
            "Number of digits in the string : 7\n"
          ]
        }
      ]
    },
    {
      "cell_type": "code",
      "source": [
        "# Write a program to count digits on the string\n",
        "def count_digits_in_string(input_string):\n",
        "\n",
        "  digit_count = 0\n",
        "  for char in input_string:\n",
        "    if '0' <= char <= '9':\n",
        "      digit_count += 1\n",
        "  return digit_count\n",
        "input_string = input(\"Enter a string: \")\n",
        "digit_count = count_digits_in_string(input_string)\n",
        "print(\"Number of digits in the string:\", digit_count)"
      ],
      "metadata": {
        "id": "MgaAnJEBRMzw",
        "colab": {
          "base_uri": "https://localhost:8080/"
        },
        "outputId": "e3144202-1ce8-4cdb-dd5d-5c2377ba3be0"
      },
      "execution_count": null,
      "outputs": [
        {
          "output_type": "stream",
          "name": "stdout",
          "text": [
            "Enter a string: hello324897jdkf\n",
            "Number of digits in the string: 6\n"
          ]
        }
      ]
    },
    {
      "cell_type": "code",
      "source": [
        "# prompt: Print lower case without using .lower()\n",
        "\n",
        "text = input(\"Enter the String:\")\n",
        "def printlower(text):\n",
        "    for char in text:\n",
        "        print(chr(ord(char) + 32) if 'A' <= char <= 'Z' else char, end=\"\")\n",
        "\n",
        "print(printlower(text))"
      ],
      "metadata": {
        "colab": {
          "base_uri": "https://localhost:8080/"
        },
        "id": "l4IhkvTvV_kr",
        "outputId": "d91c1ee6-81f5-4bb6-8174-e807a4ecd524"
      },
      "execution_count": null,
      "outputs": [
        {
          "output_type": "stream",
          "name": "stdout",
          "text": [
            "Enter the String:KSJD\n",
            "ksjdNone\n"
          ]
        }
      ]
    },
    {
      "cell_type": "code",
      "source": [
        "def print_lower(text):\n",
        "  result = ''\n",
        "  for char in text:\n",
        "    if 'A' <= char <= 'Z':\n",
        "      result += chr(ord(char) + 32)\n",
        "    else:\n",
        "      result += char\n",
        "  print(result)\n",
        "text = input(\"Enter the String: \")\n",
        "print_lower(text)\n"
      ],
      "metadata": {
        "id": "t77zO0SKXCUX",
        "colab": {
          "base_uri": "https://localhost:8080/"
        },
        "outputId": "adcc6300-b6db-498b-89e4-2c64bfb0b228"
      },
      "execution_count": null,
      "outputs": [
        {
          "output_type": "stream",
          "name": "stdout",
          "text": [
            "Enter the String: KJFSJKDJ\n",
            "kjfsjkdj\n"
          ]
        }
      ]
    },
    {
      "cell_type": "code",
      "source": [
        "# Program to find palindrome in a string\n",
        "S = input(\"Enter a string:\")\n",
        "S = S.lower()\n",
        "if S == S[::-1]:\n",
        "  print(\"Given String is Palindrome\")\n",
        "else:\n",
        "  print(\"Given String is not Palindrome\")\n"
      ],
      "metadata": {
        "colab": {
          "base_uri": "https://localhost:8080/"
        },
        "id": "NdZ_eOCOam-9",
        "outputId": "921a8d1e-06f4-4451-81c1-fec0989d913a"
      },
      "execution_count": null,
      "outputs": [
        {
          "output_type": "stream",
          "name": "stdout",
          "text": [
            "Enter a string:madaM\n",
            "Given String is Palindrome\n"
          ]
        }
      ]
    },
    {
      "cell_type": "code",
      "source": [
        "\n",
        "\n",
        "def is_palindrome(text):\n",
        "    text = text.lower()\n",
        "    left = 0\n",
        "    right = len(text) - 1\n",
        "    while left < right:\n",
        "        if text[left] != text[right]:\n",
        "            return False\n",
        "        left += 1\n",
        "        right -= 1\n",
        "    return True\n",
        "\n",
        "# Get input string\n",
        "input_string = input(\"Enter a string: \")\n",
        "\n",
        "# Check for palindrome and print result\n",
        "if is_palindrome(input_string):\n",
        "    print(\"Given String is a Palindrome\")\n",
        "else:\n",
        "    print(\"Given String is not a Palindrome\")"
      ],
      "metadata": {
        "id": "-g6tcJKrcd8W",
        "colab": {
          "base_uri": "https://localhost:8080/"
        },
        "outputId": "e9223fcc-5dc4-4068-f05d-92c2cccba270"
      },
      "execution_count": null,
      "outputs": [
        {
          "output_type": "stream",
          "name": "stdout",
          "text": [
            "Enter a string: Malayalam\n",
            "Given String is a Palindrome\n"
          ]
        }
      ]
    },
    {
      "cell_type": "code",
      "source": [
        "s = input(\"Enter the String:\")\n",
        "print(s)\n",
        "lst = []\n",
        "\n",
        "lst = s.split(\" \")\n",
        "word = ''\n",
        "max = 0\n",
        "for i in lst:\n",
        "  if len(i) > max:\n",
        "    max = len(i)\n",
        "    word =i\n",
        "print(word)"
      ],
      "metadata": {
        "colab": {
          "base_uri": "https://localhost:8080/"
        },
        "id": "roSCDf-keiFm",
        "outputId": "02dade13-0a6f-499b-c4f9-f610b9f3d3e3"
      },
      "execution_count": null,
      "outputs": [
        {
          "output_type": "stream",
          "name": "stdout",
          "text": [
            "Enter the String:h uyf hgfghvg \n",
            "h uyf hgfghvg \n",
            "hgfghvg\n"
          ]
        }
      ]
    },
    {
      "cell_type": "code",
      "source": [
        "s = input(\"Enter the String:\")\n",
        "print(s)\n",
        "\n",
        "lst = []\n",
        "\n",
        "lst = s.split(\" \")\n",
        "longest_word = \"\"\n",
        "for word in lst:\n",
        "    if len(word) > len(longest_word):\n",
        "        longest_word = word\n",
        "        print(longest_word)\n",
        "    elif len(word) == len(longest_word):\n",
        "        longest_word += \" \" + word\n",
        "\n",
        "print(longest_word)\n"
      ],
      "metadata": {
        "colab": {
          "base_uri": "https://localhost:8080/"
        },
        "id": "pzb3muo7gsiV",
        "outputId": "ab0a24f9-18ed-42b0-bf10-6b58cccb3ad4"
      },
      "execution_count": null,
      "outputs": [
        {
          "output_type": "stream",
          "name": "stdout",
          "text": [
            "Enter the String:err edd wse\n",
            "err edd wse\n",
            "err\n",
            "err edd\n"
          ]
        }
      ]
    },
    {
      "cell_type": "code",
      "source": [
        "s = input(\"Enter the String:\")\n",
        "print(s)\n",
        "\n",
        "lst = s.split(\" \")\n",
        "longest_words = []\n",
        "max_length = 0\n",
        "for word in lst:\n",
        "    if len(word) > max_length:\n",
        "        max_length = len(word)  # Update max_length\n",
        "        longest_words = [word]  # Start a new list with the current word\n",
        "    elif len(word) == max_length:\n",
        "        longest_words.append(word)  # Add word to the list if it's the same length\n",
        "\n",
        "print(\"Longest word(s):\", longest_words)"
      ],
      "metadata": {
        "id": "IZJW6ahjjlVn",
        "colab": {
          "base_uri": "https://localhost:8080/"
        },
        "outputId": "9916bf0b-ce21-44e7-e5cd-445de923a3f4"
      },
      "execution_count": null,
      "outputs": [
        {
          "output_type": "stream",
          "name": "stdout",
          "text": [
            "Enter the String:ede ert wdw\n",
            "ede ert wdw\n",
            "Longest word(s): ['ede', 'ert', 'wdw']\n"
          ]
        }
      ]
    },
    {
      "cell_type": "code",
      "source": [
        "# Write a program to find duplicates in a given string\n",
        "\n",
        "s = input(\"Enter the String:\")\n",
        "print(s)\n",
        "\n",
        "lst = []\n",
        "\n",
        "lst = s.split(\" \")\n",
        "print(lst)\n",
        "duplicates = []\n",
        "for i in lst:\n",
        "  if lst.count(i) > 1:\n",
        "    if i not in duplicates:\n",
        "      duplicates.append(i)\n",
        "print(duplicates)"
      ],
      "metadata": {
        "colab": {
          "base_uri": "https://localhost:8080/"
        },
        "id": "4YNKRMSGlNWU",
        "outputId": "028c909a-bd46-4e86-efc3-d75adcad9eb6"
      },
      "execution_count": null,
      "outputs": [
        {
          "output_type": "stream",
          "name": "stdout",
          "text": [
            "Enter the String:dr dr lst lst\n",
            "dr dr lst lst\n",
            "['dr', 'dr', 'lst', 'lst']\n",
            "['dr', 'lst']\n"
          ]
        }
      ]
    },
    {
      "cell_type": "code",
      "source": [
        "# Write a program to most frequently occured in a given string\n",
        "\n",
        "s = input(\"Enter the String\")\n",
        "most_frequent = \"\"\n",
        "s = s.split(\" \")\n",
        "for i in s:\n",
        "  if s.count(i) > s.count(most_frequent):\n",
        "    most_frequent = i\n",
        "print(most_frequent)\n"
      ],
      "metadata": {
        "colab": {
          "base_uri": "https://localhost:8080/"
        },
        "id": "t1Wjuw2po7kF",
        "outputId": "546826f8-8b2b-4f9a-a991-6574a1d27930"
      },
      "execution_count": null,
      "outputs": [
        {
          "output_type": "stream",
          "name": "stdout",
          "text": [
            "Enter the StringHello I am Gautham Hello I am Gautham\n",
            "Hello\n"
          ]
        }
      ]
    },
    {
      "cell_type": "code",
      "source": [
        "s = input(\"Enter the String\")\n",
        "\n",
        "counts = {}\n",
        "\n",
        "for word in s.split():\n",
        "    if word in counts:\n",
        "        counts[word] += 1\n",
        "\n",
        "    else:\n",
        "        counts[word] = 1\n",
        "\n",
        "max_count = 0\n",
        "\n",
        "most_frequent_words = []\n",
        "\n",
        "for word, count in counts.items():\n",
        "    if count > max_count:\n",
        "        max_count = count\n",
        "        most_frequent_words = [word]\n",
        "\n",
        "    elif count == max_count:\n",
        "        most_frequent_words.append(word)\n",
        "\n",
        "print(most_frequent_words)"
      ],
      "metadata": {
        "colab": {
          "base_uri": "https://localhost:8080/"
        },
        "id": "L9u2AkFhqH2K",
        "outputId": "129fcb05-1d85-435e-cb47-8def1bb44c96"
      },
      "execution_count": null,
      "outputs": [
        {
          "output_type": "stream",
          "name": "stdout",
          "text": [
            "Enter the StringHello I am Gautham Hello I am Gautham\n",
            "['Hello', 'I', 'am', 'Gautham']\n"
          ]
        }
      ]
    },
    {
      "cell_type": "code",
      "source": [
        "!pip install keywords"
      ],
      "metadata": {
        "colab": {
          "base_uri": "https://localhost:8080/"
        },
        "id": "jEps7IVThkvE",
        "outputId": "a4a68afe-f8c6-4276-e1fd-c18ca707e189"
      },
      "execution_count": null,
      "outputs": [
        {
          "output_type": "stream",
          "name": "stdout",
          "text": [
            "Collecting keywords\n",
            "  Downloading keywords-0.0.1.zip (3.0 kB)\n",
            "  Preparing metadata (setup.py) ... \u001b[?25l\u001b[?25hdone\n",
            "Building wheels for collected packages: keywords\n",
            "  Building wheel for keywords (setup.py) ... \u001b[?25l\u001b[?25hdone\n",
            "  Created wheel for keywords: filename=keywords-0.0.1-py3-none-any.whl size=3190 sha256=90af3cd3f892f825d2ff8f5cf1f905184a823c59b5f02d60dd771d579bd6f663\n",
            "  Stored in directory: /root/.cache/pip/wheels/d0/c8/b2/970db6eecb3eea041715b61e10a26a880c3f40adddd65e11d3\n",
            "Successfully built keywords\n",
            "Installing collected packages: keywords\n",
            "Successfully installed keywords-0.0.1\n"
          ]
        }
      ]
    },
    {
      "cell_type": "code",
      "source": [
        "# prompt: import keywords library and print kwlist\n",
        "\n",
        "import keyword\n",
        "keyword.kwlist"
      ],
      "metadata": {
        "colab": {
          "base_uri": "https://localhost:8080/"
        },
        "id": "pKTU_XA9hZgT",
        "outputId": "7710dbe9-bc77-4b84-d152-508c25bf511e"
      },
      "execution_count": null,
      "outputs": [
        {
          "output_type": "execute_result",
          "data": {
            "text/plain": [
              "['False',\n",
              " 'None',\n",
              " 'True',\n",
              " 'and',\n",
              " 'as',\n",
              " 'assert',\n",
              " 'async',\n",
              " 'await',\n",
              " 'break',\n",
              " 'class',\n",
              " 'continue',\n",
              " 'def',\n",
              " 'del',\n",
              " 'elif',\n",
              " 'else',\n",
              " 'except',\n",
              " 'finally',\n",
              " 'for',\n",
              " 'from',\n",
              " 'global',\n",
              " 'if',\n",
              " 'import',\n",
              " 'in',\n",
              " 'is',\n",
              " 'lambda',\n",
              " 'nonlocal',\n",
              " 'not',\n",
              " 'or',\n",
              " 'pass',\n",
              " 'raise',\n",
              " 'return',\n",
              " 'try',\n",
              " 'while',\n",
              " 'with',\n",
              " 'yield']"
            ]
          },
          "metadata": {},
          "execution_count": 6
        }
      ]
    },
    {
      "cell_type": "code",
      "source": [
        "# Examples for String, list, tuple, set, dictonary\n",
        "\n",
        "Stri = \"I am a String\"\n",
        "print(Stri)\n",
        "print(type(Stri))\n",
        "print(Stri+Stri)\n",
        "print(Stri*3)\n",
        "\n",
        "lst = [10,20,30,40,60,50,\"a\"]\n",
        "print(lst)\n",
        "print(type(lst))\n",
        "print(lst+lst)\n",
        "print(lst*4)\n",
        "\n",
        "\n",
        "tup = (10,20,30,40,60,50,\"b\")\n",
        "print(tup)\n",
        "print(type(tup))\n",
        "print(tup+tup)\n",
        "print(tup*5)\n",
        "\n",
        "set = {10,20,30,40,60,50,\"c\"}\n",
        "print(set)\n",
        "print(type(set))\n",
        "print(set-set)\n",
        "\n",
        "\n",
        "dict = {10:\"a\",20:\"b\",30:\"c\",40:\"d\",60:\"e\",50:\"f\"}\n",
        "print(dict)\n",
        "print(type(dict))\n",
        "\n"
      ],
      "metadata": {
        "colab": {
          "base_uri": "https://localhost:8080/"
        },
        "id": "Q4AJtvbuoyv_",
        "outputId": "abdb4501-0cf9-417a-bc82-be52c603d7ac"
      },
      "execution_count": null,
      "outputs": [
        {
          "output_type": "stream",
          "name": "stdout",
          "text": [
            "I am a String\n",
            "<class 'str'>\n",
            "I am a StringI am a String\n",
            "I am a StringI am a StringI am a String\n",
            "[10, 20, 30, 40, 60, 50, 'a']\n",
            "<class 'list'>\n",
            "[10, 20, 30, 40, 60, 50, 'a', 10, 20, 30, 40, 60, 50, 'a']\n",
            "[10, 20, 30, 40, 60, 50, 'a', 10, 20, 30, 40, 60, 50, 'a', 10, 20, 30, 40, 60, 50, 'a', 10, 20, 30, 40, 60, 50, 'a']\n",
            "(10, 20, 30, 40, 60, 50, 'b')\n",
            "<class 'tuple'>\n",
            "(10, 20, 30, 40, 60, 50, 'b', 10, 20, 30, 40, 60, 50, 'b')\n",
            "(10, 20, 30, 40, 60, 50, 'b', 10, 20, 30, 40, 60, 50, 'b', 10, 20, 30, 40, 60, 50, 'b', 10, 20, 30, 40, 60, 50, 'b', 10, 20, 30, 40, 60, 50, 'b')\n",
            "{50, 20, 40, 10, 'c', 60, 30}\n",
            "<class 'set'>\n",
            "set()\n",
            "{10: 'a', 20: 'b', 30: 'c', 40: 'd', 60: 'e', 50: 'f'}\n",
            "<class 'dict'>\n"
          ]
        }
      ]
    },
    {
      "cell_type": "code",
      "source": [
        "class Bird:\n",
        "  pass\n",
        "Parrot = Bird()\n",
        "print(Bird)\n"
      ],
      "metadata": {
        "colab": {
          "base_uri": "https://localhost:8080/"
        },
        "id": "ZT_Fashpw-fl",
        "outputId": "6bb280c8-4351-4694-b7cb-fc257fa5f906"
      },
      "execution_count": null,
      "outputs": [
        {
          "output_type": "stream",
          "name": "stdout",
          "text": [
            "<class '__main__.Bird'>\n"
          ]
        }
      ]
    },
    {
      "cell_type": "code",
      "source": [
        "class Sfj:\n",
        "  course = \"python\"\n",
        "  bname = \"genai\"\n",
        "\n",
        "Gautham = Sfj()\n",
        "\n",
        "Dinesh = Sfj()\n",
        "\n",
        "print(Sfj.course, Sfj.bname)\n",
        "print(Gautham.course, Gautham.bname)\n",
        "print(Dinesh.course, Dinesh.bname)\n",
        "Sfj.course = \"Java\"\n",
        "print(Sfj.course)"
      ],
      "metadata": {
        "colab": {
          "base_uri": "https://localhost:8080/"
        },
        "id": "kMLcOhQ3zL50",
        "outputId": "57ae613f-df49-4445-d944-5d271e97ed32"
      },
      "execution_count": null,
      "outputs": [
        {
          "output_type": "stream",
          "name": "stdout",
          "text": [
            "python genai\n",
            "python genai\n",
            "python genai\n",
            "Java\n"
          ]
        }
      ]
    },
    {
      "cell_type": "code",
      "source": [
        "class m1:\n",
        "\n",
        "  def __init__(self):\n",
        "    print('executed')\n",
        "\n",
        "ob1 = m1()\n",
        "\n",
        "ob2 = m1()\n"
      ],
      "metadata": {
        "colab": {
          "base_uri": "https://localhost:8080/"
        },
        "id": "fo3fYR791bj-",
        "outputId": "b4b49469-6476-4789-9ca6-9e02bee65eee"
      },
      "execution_count": null,
      "outputs": [
        {
          "output_type": "stream",
          "name": "stdout",
          "text": [
            "executed\n",
            "executed\n"
          ]
        }
      ]
    },
    {
      "cell_type": "code",
      "source": [
        "class ptdm1:\n",
        "\n",
        "  class_room = 205\n",
        "  trainer_name = 'Arkadeep'\n",
        "\n",
        "  def __init__(self, name, mbno, email):\n",
        "    self.name = name\n",
        "    self.mbno = mbno\n",
        "    self.email = email\n",
        "\n",
        "student1 = ptdm1('mahesh', 9876543224, 'mahes29@gmail.com')\n",
        "\n",
        "student2 = ptdm1('rani', 8769823409, 'rani234@gmail.com')\n",
        "\n",
        "student1.mbno = 7549876230\n",
        "\n",
        "print(student1.mbno)"
      ],
      "metadata": {
        "colab": {
          "base_uri": "https://localhost:8080/"
        },
        "id": "YQAyhpL11skZ",
        "outputId": "ce6a2b6f-8b55-4cdd-efe1-5c1a052c3ce0"
      },
      "execution_count": null,
      "outputs": [
        {
          "output_type": "stream",
          "name": "stdout",
          "text": [
            "7549876230\n"
          ]
        }
      ]
    },
    {
      "cell_type": "code",
      "source": [
        "# Write a program to print vowels in a given string\n",
        "S = input(\"Enter a string: \")\n",
        "\n",
        "vowels = [\"a\",\"e\",\"i\",\"o\",\"u\",\"A\",\"E\",\"I\",\"O\",\"U\"]\n",
        "\n",
        "for i in S:\n",
        "  if i in vowels:\n",
        "    print(i)\n"
      ],
      "metadata": {
        "id": "B9iXhtP43sgt",
        "colab": {
          "base_uri": "https://localhost:8080/"
        },
        "outputId": "2e33b752-94cf-489f-a454-d17a00ecb98b"
      },
      "execution_count": null,
      "outputs": [
        {
          "output_type": "stream",
          "name": "stdout",
          "text": [
            "Enter a string: I am Gautham\n",
            "I\n",
            "a\n",
            "a\n",
            "u\n",
            "a\n"
          ]
        }
      ]
    },
    {
      "cell_type": "code",
      "source": [
        "# Write a program to find the sum of a given list.\n",
        "lst = [10,20,40,30,60,50]\n",
        "\n",
        "sum = 0\n",
        "\n",
        "for i in lst:\n",
        "  sum += i\n",
        "print(sum)"
      ],
      "metadata": {
        "colab": {
          "base_uri": "https://localhost:8080/"
        },
        "id": "gO56KXNAEYPH",
        "outputId": "34098aa5-0d4f-41da-a3bf-2fb823a3c8d5"
      },
      "execution_count": null,
      "outputs": [
        {
          "output_type": "stream",
          "name": "stdout",
          "text": [
            "210\n"
          ]
        }
      ]
    },
    {
      "cell_type": "code",
      "source": [
        "# WAP to print sum of even numbers in a given list\n",
        "\n",
        "lst = [2,4,5,6,8,1,3,7]\n",
        "sum = 0\n",
        "for i in lst:\n",
        "  if i%2==0:\n",
        "    sum+=i\n",
        "print(lst)\n",
        "print(\"sum of even numbers in given list is :\", sum)"
      ],
      "metadata": {
        "id": "yfdt-BnJrrlO",
        "colab": {
          "base_uri": "https://localhost:8080/"
        },
        "outputId": "1461c78c-78a8-4ef7-954f-4cda140a686d"
      },
      "execution_count": null,
      "outputs": [
        {
          "output_type": "stream",
          "name": "stdout",
          "text": [
            "[2, 4, 5, 6, 8, 1, 3, 7]\n",
            "sum of given list is : 20\n"
          ]
        }
      ]
    },
    {
      "cell_type": "code",
      "source": [
        "# Write a program to count the alphabet \"a\" in a given String.\n",
        "\n",
        "s = input(\"Enter the string: \")\n",
        "\n",
        "count = 0\n",
        "for i in s:\n",
        "  if (i==\"a\" or i == \"A\"):\n",
        "    count+=1\n",
        "print(s)\n",
        "print(\"Count of Alphabet a in the string are \", count)"
      ],
      "metadata": {
        "id": "JYWWGKnZrsG8",
        "colab": {
          "base_uri": "https://localhost:8080/"
        },
        "outputId": "348d459e-1a7a-4127-998e-bf58957044fb"
      },
      "execution_count": null,
      "outputs": [
        {
          "output_type": "stream",
          "name": "stdout",
          "text": [
            "Enter the string: I am Gautham\n",
            "I am Gautham\n",
            "Count of Alphabet a in the string are  3\n"
          ]
        }
      ]
    },
    {
      "cell_type": "code",
      "source": [
        "class ptdm1:\n",
        "\n",
        "  classroom = 205\n",
        "  teamname = \"Deep\"\n",
        "  def __init__(self,name,mno,email):\n",
        "    self.name = name\n",
        "    self.mno = mno\n",
        "    self.email = email\n",
        "\n",
        "  def details(self):\n",
        "    print(f'name = {self.name}')\n",
        "    print(f'mno = {self.mno}')\n",
        "    print(f'email = {self.email}')\n",
        "\n",
        "student1 = ptdm1(\"Rup\",9876543210,\"rup25@gmail.com\")\n",
        "student2 = ptdm1(\"Rani\",9876543210,\"rani23@gmail.com\")\n",
        "print(student1.email)"
      ],
      "metadata": {
        "colab": {
          "base_uri": "https://localhost:8080/"
        },
        "id": "AyrzUIFosgFU",
        "outputId": "3adde1cb-7501-4c82-c4ce-33621a78c0fb"
      },
      "execution_count": null,
      "outputs": [
        {
          "output_type": "stream",
          "name": "stdout",
          "text": [
            "rup25@gmail.com\n"
          ]
        }
      ]
    },
    {
      "cell_type": "code",
      "source": [
        "class A:\n",
        "  @classmethod\n",
        "  def m1(cls):\n",
        "    print(cls)\n",
        "Ob = A()\n",
        "Ob.m1()\n",
        "A.m1()"
      ],
      "metadata": {
        "id": "CnQOWq06xiLP",
        "colab": {
          "base_uri": "https://localhost:8080/"
        },
        "outputId": "1b4796f1-4382-4287-8ff2-76cd756ff02d"
      },
      "execution_count": null,
      "outputs": [
        {
          "output_type": "stream",
          "name": "stdout",
          "text": [
            "<class '__main__.A'>\n",
            "<class '__main__.A'>\n"
          ]
        }
      ]
    },
    {
      "cell_type": "code",
      "source": [
        "class A:\n",
        "    @staticmethod\n",
        "    def m1():\n",
        "       print(\"inside\")\n",
        "Ob = A()\n",
        "A.m1()\n",
        "Ob.m1()"
      ],
      "metadata": {
        "id": "1vYW0kmRyxTV",
        "colab": {
          "base_uri": "https://localhost:8080/"
        },
        "outputId": "273d5045-f9b0-4d30-fc15-9de3b4445dd6"
      },
      "execution_count": null,
      "outputs": [
        {
          "output_type": "stream",
          "name": "stdout",
          "text": [
            "inside\n",
            "inside\n"
          ]
        }
      ]
    },
    {
      "cell_type": "code",
      "source": [
        "def Withdraw(money):\n",
        "  bal = 10000\n",
        "  if bal>=money:\n",
        "      bal -= money\n",
        "      print(\"Withdrawal Successful\")\n",
        "  else:\n",
        "    print(\"Insufficient Balance\")\n",
        "\n",
        "Withdraw(10010)\n"
      ],
      "metadata": {
        "colab": {
          "base_uri": "https://localhost:8080/"
        },
        "id": "qYLfT0G2_ROD",
        "outputId": "82d79732-fdcc-48c0-c4a1-26b50c094824"
      },
      "execution_count": null,
      "outputs": [
        {
          "output_type": "stream",
          "name": "stdout",
          "text": [
            "Insufficient Balance\n"
          ]
        }
      ]
    },
    {
      "cell_type": "code",
      "source": [
        "# Simple Bank Applicaiton\n",
        "#Bank_application.py\n",
        "class Swiss:\n",
        "    roi = 0.07\n",
        "    branch = 'sfj'\n",
        "\n",
        "    def __init__(self, name, accno, mbno, bal, pin):\n",
        "        self.name = name\n",
        "        self.accno = accno\n",
        "        self.mbno = mbno\n",
        "        self.bal = bal\n",
        "        self.pin =pin\n",
        "    def Details(self):\n",
        "        print(f\"name:{self.name}\")\n",
        "        print(f\"accno:{self.accno}\")\n",
        "        print(f\"mbno:{self.mbno}\")\n",
        "        print(f\"bal:{self.bal}\")\n",
        "        print(f\"pin:{self.pin}\")\n",
        "\n",
        "    def Balance_check(self):\n",
        "        if self.enterpin() == self.pin:\n",
        "            print(f\"Available Balance is {self.bal}\")\n",
        "        else:\n",
        "            print(\"invalid pin\")\n",
        "\n",
        "    def Deposit(self,amt):\n",
        "        if self.enterpin() == self.pin:\n",
        "            bal += amt\n",
        "            print(f\"Amount {amt} Deposited Successfully\\nTotal balance is: {bal}\")\n",
        "        else:\n",
        "            print(\"Invalid Pin!\")\n",
        "\n",
        "    def Withdraw(self, money):\n",
        "        if self.enterpin() == self.pin:\n",
        "            if self.bal >= money:\n",
        "                self.bal -= money\n",
        "                print(\"Withdrawal Successful\")\n",
        "            else:\n",
        "                print(\"Insufficient Balance\")\n",
        "        else:\n",
        "            print(\"Invalid pin!\")\n",
        "    @classmethod\n",
        "    def newroi(cls):\n",
        "        q = 0.02\n",
        "        cls.roi = q\n",
        "        print(cls.roi)\n",
        "\n",
        "    @staticmethod\n",
        "    def enterpin():\n",
        "        p = int(input(\"Enter 4 digit the pin: \"))\n",
        "        return p\n",
        "\n",
        "user1 = Swiss('Rakshith',684952511322,9113980873,10000,1234)\n",
        "\n",
        "user2 = Swiss(\"Gautham\",2312786473,9740150978,100000,4321)\n",
        "\n",
        "user2.Withdraw(int(input(\"Enter the amount: \")))\n"
      ],
      "metadata": {
        "id": "DYP2ojOUEK1A"
      },
      "execution_count": null,
      "outputs": []
    },
    {
      "cell_type": "code",
      "source": [],
      "metadata": {
        "id": "dAiPXkm30yFU"
      },
      "execution_count": null,
      "outputs": []
    }
  ]
}